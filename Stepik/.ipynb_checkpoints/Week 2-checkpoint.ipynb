{
 "cells": [
  {
   "cell_type": "markdown",
   "metadata": {},
   "source": [
    "Задача 1"
   ]
  },
  {
   "cell_type": "code",
   "execution_count": null,
   "metadata": {},
   "outputs": [],
   "source": [
    "a=int(input())\n",
    "b=int(input())\n",
    "c=int(input())\n",
    "p=(a+b+c)/2.0\n",
    "s=(p*(p-a)*(p-b)*(p-c))**(0.5)\n",
    "print(s)\n"
   ]
  },
  {
   "cell_type": "markdown",
   "metadata": {},
   "source": [
    "Задача 2"
   ]
  },
  {
   "cell_type": "code",
   "execution_count": null,
   "metadata": {},
   "outputs": [],
   "source": [
    "var=input()\n",
    "if (-15<var<=12)or(14<var<17)or(19<=var):\n",
    "    print(\"True\")\n",
    "else:\n",
    "    print(\"False\")"
   ]
  },
  {
   "cell_type": "markdown",
   "metadata": {},
   "source": [
    "Задача 1.1"
   ]
  },
  {
   "cell_type": "code",
   "execution_count": null,
   "metadata": {},
   "outputs": [],
   "source": [
    "a=int(input())\n",
    "b=int(input())\n",
    "h=int(input())\n",
    "if a<=h<=b:\n",
    "    print(\"Это нормально\")\n",
    "elif h<a:\n",
    "    print(\"Недосып\")\n",
    "else:\n",
    "    print(\"Пересып\")"
   ]
  },
  {
   "cell_type": "markdown",
   "metadata": {},
   "source": [
    "Задача 1.1.1"
   ]
  },
  {
   "cell_type": "code",
   "execution_count": null,
   "metadata": {},
   "outputs": [],
   "source": [
    "year=int(input())\n",
    "if (year%4==0 and year%100!=0)or(year%400==0):\n",
    "    print(\"Високосный\")\n",
    "else:\n",
    "    print(\"Обычный\")\n",
    "    "
   ]
  },
  {
   "cell_type": "markdown",
   "metadata": {},
   "source": [
    "Задача 1.12.1"
   ]
  },
  {
   "cell_type": "code",
   "execution_count": null,
   "metadata": {},
   "outputs": [],
   "source": [
    "a=int(input())\n",
    "b=int(input())\n",
    "c=int(input())\n",
    "p=(a+b+c)/2.0\n",
    "s=(p*(p-a)*(p-b)*(p-c)) ** (0.5)\n",
    "print(s)\n"
   ]
  },
  {
   "cell_type": "markdown",
   "metadata": {},
   "source": [
    "Задача 1.12.2"
   ]
  },
  {
   "cell_type": "code",
   "execution_count": null,
   "metadata": {},
   "outputs": [],
   "source": [
    "var=int(input())\n",
    "if (-15<var<=12)or(14<var<17)or(19<=var):\n",
    "    print(\"True\")\n",
    "else:\n",
    "    print(\"False\")\n",
    "\n"
   ]
  },
  {
   "cell_type": "markdown",
   "metadata": {},
   "source": [
    "Задача 1.12.3"
   ]
  },
  {
   "cell_type": "code",
   "execution_count": null,
   "metadata": {},
   "outputs": [],
   "source": [
    "a=float(input())\n",
    "b=float(input())\n",
    "oper=raw_input()\n",
    "if oper == '+':\n",
    "    print(a+b)\n",
    "elif oper == '-': \n",
    "    print(a-b)\n",
    "elif oper == '*':\n",
    "    print(a*b)\n",
    "elif oper == '/':\n",
    "    if b == 0:\n",
    "        print(\"Деление на 0!\")\n",
    "    else:\n",
    "        print(a/b)\n",
    "elif oper == 'mod':\n",
    "    if b == 0:\n",
    "        print(\"Деление на 0!\")\n",
    "    else:\n",
    "        print(a%b)\n",
    "elif oper == 'div':\n",
    "    if b == 0:\n",
    "        print(\"Деление на 0!\")\n",
    "    else:\n",
    "        print(a//b)\n",
    "                \n",
    "        \n",
    "else:    \n",
    "    print(a**b)\n",
    "   "
   ]
  },
  {
   "cell_type": "markdown",
   "metadata": {},
   "source": [
    "Задача 1.12.4"
   ]
  },
  {
   "cell_type": "code",
   "execution_count": null,
   "metadata": {},
   "outputs": [],
   "source": [
    "\n",
    "shape=input()\n",
    "if shape==\"triangle\":\n",
    "    a=float(input())\n",
    "    b=float(input())\n",
    "    c=float(input())\n",
    "    p= ((a+b+c)/2)\n",
    "    s = (((p*(p-a)*(p-b)*(p-c)))**0.5)\n",
    "    print(s)\n",
    "elif shape==\"rectangle\": \n",
    "    a=float(input())\n",
    "    b=float(input())\n",
    "    print(a*b)\n",
    "elif shape==\"circle\":\n",
    "    r=float(input())\n",
    "    print(3.14*r**2)\n",
    "   \n",
    "    "
   ]
  },
  {
   "cell_type": "markdown",
   "metadata": {},
   "source": [
    "Задача 1.12.5\n"
   ]
  },
  {
   "cell_type": "code",
   "execution_count": null,
   "metadata": {},
   "outputs": [],
   "source": [
    "a=int(input())\n",
    "b=int(input())\n",
    "c=int(input())\n",
    "if a>=b:\n",
    "    max=a\n",
    "    min=b\n",
    "else:\n",
    "    max=b\n",
    "    min=a\n",
    "    \n",
    "if (max<c):\n",
    "        max=c\n",
    "        \n",
    "else:\n",
    "       if(c<min):\n",
    "        min=c\n",
    "        \n",
    "            \n",
    "        \n",
    "print(max)\n",
    "print(min)\n",
    "print(a+b+c-(max+min))\n",
    "\n",
    "    "
   ]
  },
  {
   "cell_type": "markdown",
   "metadata": {},
   "source": [
    "Задача 1.12.6\n",
    "\n",
    "-------------------"
   ]
  },
  {
   "cell_type": "code",
   "execution_count": null,
   "metadata": {},
   "outputs": [],
   "source": [
    "n=input()\n",
    "if len(n)>=2 and n[len(n)-2]=='1':\n",
    "    print(n, 'программистов')\n",
    "else:\n",
    "    if n[len(n)-1]=='1':\n",
    "        print(n, 'программист')\n",
    "    \n",
    "    elif n[len(n)-1]=='2':\n",
    "        print(n, 'программиста')\n",
    "    \n",
    "    elif n[len(n)-1]=='3':\n",
    "        print(n, 'программиста')\n",
    "    \n",
    "    elif n[len(n)-1]=='4':\n",
    "        print(n, 'программиста')\n",
    "    elif n[len(n)-1]=='5':\n",
    "        print(n, 'программистов')\n",
    "    elif n[len(n)-1]=='6':\n",
    "        print(n, 'программистов')\n",
    "    elif n[len(n)-1]=='7':\n",
    "        print(n, 'программистов')\n",
    "    elif n[len(n)-1]=='8':\n",
    "        print(n, 'программистов')\n",
    "    elif n[len(n)-1]=='9':\n",
    "        print(n, 'программистов')\n",
    "    elif n[len(n)-1]=='0':\n",
    "        print(n, 'программистов')\n"
   ]
  },
  {
   "cell_type": "markdown",
   "metadata": {},
   "source": [
    "Задача 1.12.7"
   ]
  },
  {
   "cell_type": "code",
   "execution_count": null,
   "metadata": {},
   "outputs": [],
   "source": [
    "\n",
    "k=input()\n",
    "if (int(k[0])+int(k[1])+int(k[2]))==(int(k[-1])+int(k[-2])+int(k[3])):\n",
    "    print('Cчастливый')\n",
    "else:\n",
    "    print('Обычный')\n"
   ]
  },
  {
   "cell_type": "markdown",
   "metadata": {},
   "source": [
    "Задача 2.1.1"
   ]
  },
  {
   "cell_type": "code",
   "execution_count": 2,
   "metadata": {},
   "outputs": [
    {
     "name": "stdout",
     "output_type": "stream",
     "text": [
      "0\n",
      "0\n"
     ]
    }
   ],
   "source": [
    "k=int(input())\n",
    "s=k\n",
    "while k!=0:\n",
    "    k=int(input())\n",
    "    s+=k\n",
    "print(s)    "
   ]
  },
  {
   "cell_type": "markdown",
   "metadata": {},
   "source": [
    "Задача 2.1.2"
   ]
  },
  {
   "cell_type": "code",
   "execution_count": 18,
   "metadata": {},
   "outputs": [
    {
     "name": "stdout",
     "output_type": "stream",
     "text": [
      "7\n",
      "5\n",
      "35\n"
     ]
    }
   ],
   "source": [
    "a=int(input())\n",
    "b=int(input())\n",
    "k=a*b\n",
    "while a != 0 and b != 0:\n",
    "        if a > b:\n",
    "            a = a % b\n",
    "        else:\n",
    "            b = b % a\n",
    "            \n",
    "print(k//(a + b))"
   ]
  },
  {
   "cell_type": "markdown",
   "metadata": {},
   "source": [
    "Более элегантное решение задачи 2.1.2"
   ]
  },
  {
   "cell_type": "code",
   "execution_count": null,
   "metadata": {},
   "outputs": [],
   "source": [
    "a = int(input())\n",
    "b = int(input())\n",
    "d=a\n",
    "while d%b!=0:\n",
    "    d+=a\n",
    "print(d)\n"
   ]
  },
  {
   "cell_type": "markdown",
   "metadata": {},
   "source": [
    "Задача 2.2.1"
   ]
  },
  {
   "cell_type": "code",
   "execution_count": 2,
   "metadata": {},
   "outputs": [
    {
     "name": "stdout",
     "output_type": "stream",
     "text": [
      "1000\n"
     ]
    }
   ],
   "source": [
    "while 1:\n",
    "    a=int(input())\n",
    "    if a>100:\n",
    "        break\n",
    "    if a>=10 and a<=100:\n",
    "        print(a)\n",
    "        \n",
    "\n",
    "\n"
   ]
  },
  {
   "cell_type": "markdown",
   "metadata": {},
   "source": [
    "Задача 2.3.1"
   ]
  },
  {
   "cell_type": "code",
   "execution_count": 19,
   "metadata": {},
   "outputs": [
    {
     "name": "stdout",
     "output_type": "stream",
     "text": [
      "7\n",
      "10\n",
      "5\n",
      "6\n",
      "\t\n",
      "\t 5\t 6\n",
      "7\t 35\t 42\n",
      "8\t 40\t 48\n",
      "9\t 45\t 54\n",
      "10\t 50\t 60\n"
     ]
    }
   ],
   "source": [
    "a=int(input())\n",
    "b=int(input())+1\n",
    "c=int(input())\n",
    "d=int(input())+1\n",
    "\n",
    "\n",
    "\n",
    "print('\\t')\n",
    "for k in range (c,d):\n",
    "    print('\\t',k,end='')\n",
    "print()    \n",
    "for k in range (a,b):\n",
    "    print(k,end='')\n",
    "    for j in range (c,d):\n",
    "        print('\\t',j*k,end='')\n",
    "    \n",
    "    print()    \n"
   ]
  },
  {
   "cell_type": "markdown",
   "metadata": {},
   "source": [
    "Задача 2.3.2"
   ]
  },
  {
   "cell_type": "code",
   "execution_count": 24,
   "metadata": {},
   "outputs": [
    {
     "name": "stdout",
     "output_type": "stream",
     "text": [
      "-5\n",
      "12\n",
      "4.5\n"
     ]
    }
   ],
   "source": [
    "a, b = (int(input()) for i in (1, 2))\n",
    "s=0\n",
    "cnt=0\n",
    "for k in range(a,b+1):\n",
    "    if k%3==0:\n",
    "        s+=k\n",
    "        cnt+=1\n",
    "print(s/cnt)        \n"
   ]
  },
  {
   "cell_type": "markdown",
   "metadata": {},
   "source": [
    "Задача 2.4.1"
   ]
  },
  {
   "cell_type": "code",
   "execution_count": null,
   "metadata": {},
   "outputs": [],
   "source": [
    "import re\n",
    "x = input()\n",
    "print(len(re.findall(\"(c|C|g|G)\", x)) / len(x) * 100)\n",
    "#С использованием регулярных выражений\n",
    "#Задаем выражение-фильтр (\"(c|C|g|G)\") - любой символ из списка - и считаем кол-во вхождений в инпуте. Все#\n",
    "\n",
    "\n",
    "\n",
    "s = input().upper()\n",
    "print((s.count('G') + s.count('C'))/len(s) * 100)"
   ]
  },
  {
   "cell_type": "code",
   "execution_count": 10,
   "metadata": {},
   "outputs": [
    {
     "name": "stdout",
     "output_type": "stream",
     "text": [
      "acggtgttat\n",
      "40.0\n"
     ]
    }
   ],
   "source": [
    "str=input()\n",
    "c=0\n",
    "for i in str:\n",
    "    if i==\"g\" or i==\"c\":\n",
    "        c+=1\n",
    "        \n",
    "print(c/len(str)*100)        \n",
    "    "
   ]
  },
  {
   "cell_type": "code",
   "execution_count": 11,
   "metadata": {},
   "outputs": [
    {
     "data": {
      "text/plain": [
       "'kigec'"
      ]
     },
     "execution_count": 11,
     "metadata": {},
     "output_type": "execute_result"
    }
   ],
   "source": [
    "s = 'abcdefghijk'\n",
    "s[3:6]\n",
    "s[:6]\n",
    "s[3:]\n",
    "s[::-1]\n",
    "s[-3:]\n",
    "s[:-6]\n",
    "s[-1:-10:-2]"
   ]
  },
  {
   "cell_type": "code",
   "execution_count": 14,
   "metadata": {},
   "outputs": [
    {
     "name": "stdout",
     "output_type": "stream",
     "text": [
      "1\n",
      "a 0 g 0 t 0 c 0\n"
     ]
    }
   ],
   "source": [
    "s=input().upper()\n",
    "print(\"a\", s.count(\"A\"), \"g\", s.count(\"G\"), \"t\", s.count(\"T\"), \"c\", s.count(\"C\"))"
   ]
  },
  {
   "cell_type": "markdown",
   "metadata": {},
   "source": [
    "Задача 2.4.2"
   ]
  },
  {
   "cell_type": "code",
   "execution_count": null,
   "metadata": {},
   "outputs": [],
   "source": [
    "def compress(string):\n",
    "\n",
    "    res = \"\"\n",
    "\n",
    "    count = 1\n",
    "\n",
    "    #Add in first character\n",
    "    res += string[0]\n",
    "\n",
    "    #Iterate through loop, skipping last one\n",
    "    for i in range(len(string)-1):\n",
    "        if(string[i] == string[i+1]):\n",
    "            count+=1\n",
    "        else:\n",
    "            if(count > 1):\n",
    "                #Ignore if no repeats\n",
    "                res += str(count)\n",
    "            res += string[i+1]\n",
    "            count = 1\n",
    "    #print last one\n",
    "    if(count > 1):\n",
    "        res += str(count)\n",
    "    return res\n",
    "compress(input())"
   ]
  },
  {
   "cell_type": "markdown",
   "metadata": {},
   "source": [
    "Задача 2.5.1"
   ]
  },
  {
   "cell_type": "code",
   "execution_count": 14,
   "metadata": {},
   "outputs": [
    {
     "name": "stdout",
     "output_type": "stream",
     "text": [
      "4 -1 9 3\n",
      "15\n"
     ]
    }
   ],
   "source": [
    "print(sum([int(s) for s in input().split()]))\n"
   ]
  },
  {
   "cell_type": "markdown",
   "metadata": {},
   "source": [
    "Задача 2.5.2"
   ]
  },
  {
   "cell_type": "code",
   "execution_count": 17,
   "metadata": {},
   "outputs": [
    {
     "name": "stdout",
     "output_type": "stream",
     "text": [
      "1 2 3\n",
      "5 4 3 "
     ]
    }
   ],
   "source": [
    "ls=[int(s) for s in input().split()]\n",
    "if(len(ls)==1):\n",
    "    print(ls[0])\n",
    "else:    \n",
    "    ls.insert(0,ls[-1])\n",
    "    ls.append(ls[1])\n",
    "    [print(ls[i-1]+ls[i+1],end=\" \") for i in range(1,len(ls)-1)]\n",
    "\n",
    "    \n",
    "    \n",
    "\n"
   ]
  },
  {
   "cell_type": "markdown",
   "metadata": {},
   "source": [
    "Задача 2.3.3"
   ]
  },
  {
   "cell_type": "code",
   "execution_count": 21,
   "metadata": {},
   "outputs": [
    {
     "name": "stdout",
     "output_type": "stream",
     "text": [
      "4 8 0 3 4 2 0 3\n",
      "0 3 4 "
     ]
    }
   ],
   "source": [
    "seq=sorted([int(s) for s in input().split()])\n",
    "nseq=[]\n",
    "for i, item in enumerate(seq):\n",
    "        if seq.count(item)>1:\n",
    "            nseq.append(item)\n",
    "            \n",
    "for i in list(set(nseq)):\n",
    "    print(i,end=\" \")\n"
   ]
  },
  {
   "cell_type": "code",
   "execution_count": 23,
   "metadata": {},
   "outputs": [
    {
     "name": "stdout",
     "output_type": "stream",
     "text": [
      "1 2 3\n",
      "\n"
     ]
    }
   ],
   "source": [
    "str = [int(i) for i in input().split()]\n",
    "ans = []\n",
    "[ans.append(x) for x in str if x not in ans and str.count(x) > 1]\n",
    "print(*ans)\n"
   ]
  },
  {
   "cell_type": "markdown",
   "metadata": {},
   "source": [
    "Задача 2.6.1"
   ]
  },
  {
   "cell_type": "code",
   "execution_count": 31,
   "metadata": {},
   "outputs": [
    {
     "name": "stdout",
     "output_type": "stream",
     "text": [
      "1\n",
      "-3\n",
      "5\n",
      "-6\n",
      "-10\n",
      "13\n",
      "339\n"
     ]
    }
   ],
   "source": [
    "sm=0\n",
    "lt=[]\n",
    "while 1:\n",
    "    x=int(input())\n",
    "    sm+=x\n",
    "    lt.append(x**2)\n",
    "    if sm==0:\n",
    "        break\n",
    "print(sum(lt))    \n",
    "    \n",
    "\n",
    "\n",
    "\n",
    "\n",
    "    "
   ]
  },
  {
   "cell_type": "code",
   "execution_count": 32,
   "metadata": {},
   "outputs": [
    {
     "data": {
      "text/plain": [
       "[9, 25, 36, 100, 169]"
      ]
     },
     "execution_count": 32,
     "metadata": {},
     "output_type": "execute_result"
    }
   ],
   "source": [
    "lt"
   ]
  },
  {
   "cell_type": "markdown",
   "metadata": {},
   "source": [
    "Задача 2.6.2"
   ]
  },
  {
   "cell_type": "code",
   "execution_count": 7,
   "metadata": {},
   "outputs": [
    {
     "name": "stdout",
     "output_type": "stream",
     "text": [
      "5\n",
      "1 2 2 3 3\n"
     ]
    }
   ],
   "source": [
    "x=int(input())\n",
    "s=[[i] * i for i in range(1,x+1)]\n",
    "sn=[item for sublist in s for item in sublist] # очень интересная конструкция\n",
    "print(*sn[:x])"
   ]
  },
  {
   "cell_type": "markdown",
   "metadata": {},
   "source": [
    "Задача 2.6.3"
   ]
  },
  {
   "cell_type": "code",
   "execution_count": 10,
   "metadata": {},
   "outputs": [
    {
     "name": "stdout",
     "output_type": "stream",
     "text": [
      "5 8 2 7 8 8 2 4\n",
      "10\n",
      "Отсутствует\n"
     ]
    }
   ],
   "source": [
    "lst = [int(i) for i in input().split()]\n",
    "x=int(input())\n",
    "occ=[i for i, e in enumerate(lst) if e == x]\n",
    "if len(occ)==0:\n",
    "    print(\"Отсутствует\")\n",
    "else:\n",
    "    print(*occ)"
   ]
  },
  {
   "cell_type": "code",
   "execution_count": null,
   "metadata": {},
   "outputs": [],
   "source": []
  }
 ],
 "metadata": {
  "kernelspec": {
   "display_name": "Python 3",
   "language": "python",
   "name": "python3"
  }
 },
 "nbformat": 4,
 "nbformat_minor": 2
}
