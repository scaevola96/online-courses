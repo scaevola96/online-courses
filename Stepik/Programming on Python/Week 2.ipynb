{
 "cells": [
  {
   "cell_type": "markdown",
   "metadata": {},
   "source": [
    "Задача 2.1.1"
   ]
  },
  {
   "cell_type": "code",
   "execution_count": null,
   "metadata": {},
   "outputs": [],
   "source": [
    "k=int(input())\n",
    "s=k\n",
    "while k!=0:\n",
    "    k=int(input())\n",
    "    s+=k\n",
    "print(s)    "
   ]
  },
  {
   "cell_type": "markdown",
   "metadata": {},
   "source": [
    "Задача 2.1.2"
   ]
  },
  {
   "cell_type": "code",
   "execution_count": null,
   "metadata": {},
   "outputs": [],
   "source": [
    "a=int(input())\n",
    "b=int(input())\n",
    "k=a*b\n",
    "while a != 0 and b != 0:\n",
    "        if a > b:\n",
    "            a = a % b\n",
    "        else:\n",
    "            b = b % a\n",
    "            \n",
    "print(k//(a + b))"
   ]
  },
  {
   "cell_type": "markdown",
   "metadata": {},
   "source": [
    "Более элегантное решение задачи 2.1.2"
   ]
  },
  {
   "cell_type": "code",
   "execution_count": null,
   "metadata": {},
   "outputs": [],
   "source": [
    "a = int(input())\n",
    "b = int(input())\n",
    "d=a\n",
    "while d%b!=0:\n",
    "    d+=a\n",
    "print(d)\n"
   ]
  },
  {
   "cell_type": "markdown",
   "metadata": {},
   "source": [
    "Задача 2.2.1"
   ]
  },
  {
   "cell_type": "code",
   "execution_count": null,
   "metadata": {},
   "outputs": [],
   "source": [
    "while 1:\n",
    "    a=int(input())\n",
    "    if a>100:\n",
    "        break\n",
    "    if a>=10 and a<=100:\n",
    "        print(a)\n",
    "        \n",
    "\n",
    "\n"
   ]
  },
  {
   "cell_type": "markdown",
   "metadata": {},
   "source": [
    "Задача 2.3.1"
   ]
  },
  {
   "cell_type": "code",
   "execution_count": null,
   "metadata": {},
   "outputs": [],
   "source": [
    "a=int(input())\n",
    "b=int(input())+1\n",
    "c=int(input())\n",
    "d=int(input())+1\n",
    "\n",
    "\n",
    "\n",
    "print('\\t')\n",
    "for k in range (c,d):\n",
    "    print('\\t',k,end='')\n",
    "print()    \n",
    "for k in range (a,b):\n",
    "    print(k,end='')\n",
    "    for j in range (c,d):\n",
    "        print('\\t',j*k,end='')\n",
    "    \n",
    "    print()    \n"
   ]
  },
  {
   "cell_type": "markdown",
   "metadata": {},
   "source": [
    "Задача 2.3.2"
   ]
  },
  {
   "cell_type": "code",
   "execution_count": null,
   "metadata": {},
   "outputs": [],
   "source": [
    "a, b = (int(input()) for i in (1, 2))\n",
    "s=0\n",
    "cnt=0\n",
    "for k in range(a,b+1):\n",
    "    if k%3==0:\n",
    "        s+=k\n",
    "        cnt+=1\n",
    "print(s/cnt)        \n"
   ]
  },
  {
   "cell_type": "markdown",
   "metadata": {},
   "source": [
    "Задача 2.4.1"
   ]
  },
  {
   "cell_type": "code",
   "execution_count": null,
   "metadata": {},
   "outputs": [],
   "source": [
    "import re\n",
    "x = input()\n",
    "print(len(re.findall(\"(c|C|g|G)\", x)) / len(x) * 100)\n",
    "#С использованием регулярных выражений\n",
    "#Задаем выражение-фильтр (\"(c|C|g|G)\") - любой символ из списка - и считаем кол-во вхождений в инпуте. Все#\n",
    "\n",
    "\n",
    "\n",
    "s = input().upper()\n",
    "print((s.count('G') + s.count('C'))/len(s) * 100)"
   ]
  },
  {
   "cell_type": "code",
   "execution_count": null,
   "metadata": {},
   "outputs": [],
   "source": [
    "str=input()\n",
    "c=0\n",
    "for i in str:\n",
    "    if i==\"g\" or i==\"c\":\n",
    "        c+=1\n",
    "        \n",
    "print(c/len(str)*100)        \n",
    "    "
   ]
  },
  {
   "cell_type": "code",
   "execution_count": null,
   "metadata": {},
   "outputs": [],
   "source": [
    "s = 'abcdefghijk'\n",
    "s[3:6]\n",
    "s[:6]\n",
    "s[3:]\n",
    "s[::-1]\n",
    "s[-3:]\n",
    "s[:-6]\n",
    "s[-1:-10:-2]"
   ]
  },
  {
   "cell_type": "code",
   "execution_count": null,
   "metadata": {},
   "outputs": [],
   "source": [
    "s=input().upper()\n",
    "print(\"a\", s.count(\"A\"), \"g\", s.count(\"G\"), \"t\", s.count(\"T\"), \"c\", s.count(\"C\"))"
   ]
  },
  {
   "cell_type": "markdown",
   "metadata": {},
   "source": [
    "Задача 2.4.2"
   ]
  },
  {
   "cell_type": "code",
   "execution_count": null,
   "metadata": {},
   "outputs": [],
   "source": [
    "def compress(string):\n",
    "\n",
    "    res = \"\"\n",
    "\n",
    "    count = 1\n",
    "\n",
    "    #Add in first character\n",
    "    res += string[0]\n",
    "\n",
    "    #Iterate through loop, skipping last one\n",
    "    for i in range(len(string)-1):\n",
    "        if(string[i] == string[i+1]):\n",
    "            count+=1\n",
    "        else:\n",
    "            if(count > 1):\n",
    "                #Ignore if no repeats\n",
    "                res += str(count)\n",
    "            res += string[i+1]\n",
    "            count = 1\n",
    "    #print last one\n",
    "    if(count > 1):\n",
    "        res += str(count)\n",
    "    return res\n",
    "compress(input())"
   ]
  },
  {
   "cell_type": "markdown",
   "metadata": {},
   "source": [
    "Задача 2.5.1"
   ]
  },
  {
   "cell_type": "code",
   "execution_count": null,
   "metadata": {},
   "outputs": [],
   "source": [
    "print(sum([int(s) for s in input().split()]))\n"
   ]
  },
  {
   "cell_type": "markdown",
   "metadata": {},
   "source": [
    "Задача 2.5.2"
   ]
  },
  {
   "cell_type": "code",
   "execution_count": null,
   "metadata": {},
   "outputs": [],
   "source": [
    "ls=[int(s) for s in input().split()]\n",
    "if(len(ls)==1):\n",
    "    print(ls[0])\n",
    "else:    \n",
    "    ls.insert(0,ls[-1])\n",
    "    ls.append(ls[1])\n",
    "    [print(ls[i-1]+ls[i+1],end=\" \") for i in range(1,len(ls)-1)]\n",
    "\n",
    "    \n",
    "    \n",
    "\n"
   ]
  },
  {
   "cell_type": "markdown",
   "metadata": {},
   "source": [
    "Задача 2.3.3"
   ]
  },
  {
   "cell_type": "code",
   "execution_count": null,
   "metadata": {},
   "outputs": [],
   "source": [
    "seq=sorted([int(s) for s in input().split()])\n",
    "nseq=[]\n",
    "for i, item in enumerate(seq):\n",
    "        if seq.count(item)>1:\n",
    "            nseq.append(item)\n",
    "            \n",
    "for i in list(set(nseq)):\n",
    "    print(i,end=\" \")\n"
   ]
  },
  {
   "cell_type": "code",
   "execution_count": null,
   "metadata": {},
   "outputs": [],
   "source": [
    "str = [int(i) for i in input().split()]\n",
    "ans = []\n",
    "[ans.append(x) for x in str if x not in ans and str.count(x) > 1]\n",
    "print(*ans)\n"
   ]
  },
  {
   "cell_type": "markdown",
   "metadata": {},
   "source": [
    "Задача 2.6.1"
   ]
  },
  {
   "cell_type": "code",
   "execution_count": null,
   "metadata": {},
   "outputs": [],
   "source": [
    "sm=0\n",
    "lt=[]\n",
    "while 1:\n",
    "    x=int(input())\n",
    "    sm+=x\n",
    "    lt.append(x**2)\n",
    "    if sm==0:\n",
    "        break\n",
    "print(sum(lt))    \n",
    "    \n",
    "\n",
    "\n",
    "\n",
    "\n",
    "    "
   ]
  },
  {
   "cell_type": "code",
   "execution_count": null,
   "metadata": {},
   "outputs": [],
   "source": [
    "lt"
   ]
  },
  {
   "cell_type": "markdown",
   "metadata": {},
   "source": [
    "Задача 2.6.2"
   ]
  },
  {
   "cell_type": "code",
   "execution_count": null,
   "metadata": {},
   "outputs": [],
   "source": [
    "x=int(input())\n",
    "s=[[i] * i for i in range(1,x+1)]\n",
    "sn=[item for sublist in s for item in sublist] # очень интересная конструкция\n",
    "print(*sn[:x])"
   ]
  },
  {
   "cell_type": "markdown",
   "metadata": {},
   "source": [
    "Задача 2.6.3"
   ]
  },
  {
   "cell_type": "code",
   "execution_count": null,
   "metadata": {},
   "outputs": [],
   "source": [
    "lst = [int(i) for i in input().split()]\n",
    "x=int(input())\n",
    "occ=[i for i, e in enumerate(lst) if e == x]\n",
    "if len(occ)==0:\n",
    "    print(\"Отсутствует\")\n",
    "else:\n",
    "    print(*occ)"
   ]
  },
  {
   "cell_type": "code",
   "execution_count": null,
   "metadata": {},
   "outputs": [],
   "source": []
  }
 ],
 "metadata": {
  "kernelspec": {
   "display_name": "Python 3",
   "language": "python",
   "name": "python3"
  },
  "language_info": {
   "codemirror_mode": {
    "name": "ipython",
    "version": 3
   },
   "file_extension": ".py",
   "mimetype": "text/x-python",
   "name": "python",
   "nbconvert_exporter": "python",
   "pygments_lexer": "ipython3",
   "version": "3.7.1"
  }
 },
 "nbformat": 4,
 "nbformat_minor": 2
}
