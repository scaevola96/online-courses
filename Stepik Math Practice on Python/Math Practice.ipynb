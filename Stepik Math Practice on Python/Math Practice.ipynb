{
 "cells": [
  {
   "cell_type": "markdown",
   "metadata": {},
   "source": [
    "# Cеминар 1"
   ]
  },
  {
   "cell_type": "code",
   "execution_count": 24,
   "metadata": {},
   "outputs": [],
   "source": [
    "import math\n",
    "from math import atan\n",
    "from math import exp"
   ]
  },
  {
   "cell_type": "markdown",
   "metadata": {},
   "source": [
    "### Задача 1\n"
   ]
  },
  {
   "cell_type": "markdown",
   "metadata": {},
   "source": [
    "$$\n",
    "f(x) = 2\\arctan{x}\n",
    "$$\n",
    "\n",
    "\n",
    "$$ \n",
    "\\lim_{x\\rightarrow +\\infty} f(x)\n",
    "$$"
   ]
  },
  {
   "cell_type": "code",
   "execution_count": 23,
   "metadata": {},
   "outputs": [
    {
     "name": "stdout",
     "output_type": "stream",
     "text": [
      "3.141590431367571\n"
     ]
    }
   ],
   "source": [
    "def f(x):\n",
    "    return 2*atan(x)\n",
    "h_list=range(0,10**6,10**5)\n",
    "lim=[]\n",
    "for x in h_list:\n",
    "    lim.append(f(x))\n",
    "print(lim[-1])    "
   ]
  },
  {
   "cell_type": "markdown",
   "metadata": {},
   "source": [
    "### Задача 2"
   ]
  },
  {
   "cell_type": "code",
   "execution_count": 34,
   "metadata": {},
   "outputs": [
    {
     "name": "stdout",
     "output_type": "stream",
     "text": [
      "34.51261310995657\n",
      "21.12414358253968\n",
      "20.186300205325836\n",
      "20.095583040074416\n",
      "20.08654123354603\n",
      "20.0856373513858\n"
     ]
    }
   ],
   "source": [
    "def f(x):\n",
    "    return exp(x)\n",
    "h_list = [1, 0.1, 0.01, 0.001, 0.0001, 0.00001]\n",
    "x=3\n",
    "for h in h_list:\n",
    "    print ((f(x+h) - f(x))/h)"
   ]
  },
  {
   "cell_type": "code",
   "execution_count": null,
   "metadata": {},
   "outputs": [],
   "source": []
  }
 ],
 "metadata": {
  "kernelspec": {
   "display_name": "Python 3",
   "language": "python",
   "name": "python3"
  },
  "language_info": {
   "codemirror_mode": {
    "name": "ipython",
    "version": 3
   },
   "file_extension": ".py",
   "mimetype": "text/x-python",
   "name": "python",
   "nbconvert_exporter": "python",
   "pygments_lexer": "ipython3",
   "version": "3.7.3"
  }
 },
 "nbformat": 4,
 "nbformat_minor": 2
}
