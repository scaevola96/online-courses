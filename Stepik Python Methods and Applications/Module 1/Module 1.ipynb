{
 "cells": [
  {
   "cell_type": "markdown",
   "metadata": {},
   "source": [
    "# Задача 1.5.1"
   ]
  },
  {
   "cell_type": "code",
   "execution_count": 22,
   "metadata": {},
   "outputs": [],
   "source": [
    "class MoneyBox:\n",
    "    def __init__(self, capacity):\n",
    "        self.count = 0\n",
    "        self.capacity = capacity\n",
    "\n",
    "    def can_add(self, v):\n",
    "        return (self.count + v) <= self.capacity\n",
    "\n",
    "    def add(self, v):\n",
    "        if(self.can_add(v)):\n",
    "            self.count += v"
   ]
  },
  {
   "cell_type": "markdown",
   "metadata": {},
   "source": [
    "# Задача 1.5.2"
   ]
  },
  {
   "cell_type": "code",
   "execution_count": 23,
   "metadata": {},
   "outputs": [],
   "source": [
    "class Buffer:\n",
    "\n",
    "    def __init__(self):\n",
    "        self.current_part = []\n",
    "\n",
    "    def add(self, *a):\n",
    "        self.current_part.extend(a)\n",
    "        while len(self.current_part) - 5 >= 0:\n",
    "            print(sum(self.current_part[0:5]))\n",
    "            self.current_part = self.current_part[5:]\n",
    "\n",
    "    def get_current_part(self):\n",
    "        return self.current_part"
   ]
  },
  {
   "cell_type": "code",
   "execution_count": null,
   "metadata": {},
   "outputs": [],
   "source": []
  }
 ],
 "metadata": {
  "kernelspec": {
   "display_name": "Python 3",
   "language": "python",
   "name": "python3"
  },
  "language_info": {
   "codemirror_mode": {
    "name": "ipython",
    "version": 3
   },
   "file_extension": ".py",
   "mimetype": "text/x-python",
   "name": "python",
   "nbconvert_exporter": "python",
   "pygments_lexer": "ipython3",
   "version": "3.7.3"
  }
 },
 "nbformat": 4,
 "nbformat_minor": 2
}
