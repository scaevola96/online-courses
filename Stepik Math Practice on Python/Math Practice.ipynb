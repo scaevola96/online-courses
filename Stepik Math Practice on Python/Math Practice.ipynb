{
 "cells": [
  {
   "cell_type": "markdown",
   "metadata": {},
   "source": [
    "# Cеминар 1"
   ]
  },
  {
   "cell_type": "code",
   "execution_count": 7,
   "metadata": {},
   "outputs": [],
   "source": [
    "import math\n",
    "from math import atan\n",
    "from math import exp\n",
    "import numpy as np"
   ]
  },
  {
   "cell_type": "markdown",
   "metadata": {},
   "source": [
    "### Задача 1\n"
   ]
  },
  {
   "cell_type": "code",
   "execution_count": 23,
   "metadata": {},
   "outputs": [
    {
     "name": "stdout",
     "output_type": "stream",
     "text": [
      "3.141590431367571\n"
     ]
    }
   ],
   "source": [
    "def f(x):\n",
    "    return 2*atan(x)\n",
    "h_list=range(0,10**6,10**5)\n",
    "lim=[]\n",
    "for x in h_list:\n",
    "    lim.append(f(x))\n",
    "print(lim[-1])    "
   ]
  },
  {
   "cell_type": "markdown",
   "metadata": {},
   "source": [
    "### Задача 2"
   ]
  },
  {
   "cell_type": "code",
   "execution_count": 34,
   "metadata": {},
   "outputs": [
    {
     "name": "stdout",
     "output_type": "stream",
     "text": [
      "34.51261310995657\n",
      "21.12414358253968\n",
      "20.186300205325836\n",
      "20.095583040074416\n",
      "20.08654123354603\n",
      "20.0856373513858\n"
     ]
    }
   ],
   "source": [
    "def f(x):\n",
    "    return exp(x)\n",
    "h_list = [1, 0.1, 0.01, 0.001, 0.0001, 0.00001]\n",
    "x=3\n",
    "for h in h_list:\n",
    "    print ((f(x+h) - f(x))/h)"
   ]
  },
  {
   "cell_type": "markdown",
   "metadata": {},
   "source": [
    "### Задача 3"
   ]
  },
  {
   "cell_type": "code",
   "execution_count": 1,
   "metadata": {},
   "outputs": [
    {
     "data": {
      "text/plain": [
       "[1, 2, 5, 13, 34]"
      ]
     },
     "execution_count": 1,
     "metadata": {},
     "output_type": "execute_result"
    }
   ],
   "source": [
    "def even_indeces(m):\n",
    "    return m[::2]\n",
    "\n",
    "even_indeces([1, 1, 2, 3, 5, 8, 13, 21, 34])"
   ]
  },
  {
   "cell_type": "markdown",
   "metadata": {},
   "source": [
    "### Задача 4\n"
   ]
  },
  {
   "cell_type": "code",
   "execution_count": 7,
   "metadata": {},
   "outputs": [
    {
     "data": {
      "text/plain": [
       "[2, 8, 34]"
      ]
     },
     "execution_count": 7,
     "metadata": {},
     "output_type": "execute_result"
    }
   ],
   "source": [
    "def even_elements(l):\n",
    "    m=[]\n",
    "    for i in l:\n",
    "        if(i%2==0):\n",
    "            m.append(i)\n",
    "    return m        \n",
    "        \n",
    "even_elements([1, 1, 2, 3, 5, 8, 13, 21, 34])        \n",
    "        "
   ]
  },
  {
   "cell_type": "markdown",
   "metadata": {},
   "source": [
    "### Задача 5"
   ]
  },
  {
   "cell_type": "code",
   "execution_count": 9,
   "metadata": {},
   "outputs": [],
   "source": [
    "def last_to_first(m):\n",
    "    return m[::-1]"
   ]
  },
  {
   "cell_type": "markdown",
   "metadata": {},
   "source": [
    "### Задача 6"
   ]
  },
  {
   "cell_type": "code",
   "execution_count": 15,
   "metadata": {},
   "outputs": [
    {
     "name": "stdout",
     "output_type": "stream",
     "text": [
      "100\n",
      "735\n"
     ]
    }
   ],
   "source": [
    "n = int(input())\n",
    "res=0\n",
    "for i in range(n+1):\n",
    "    if(i%5==0 and i%3!=0):\n",
    "        res+=i\n",
    "print(res)"
   ]
  },
  {
   "cell_type": "markdown",
   "metadata": {},
   "source": [
    "### Задача 7"
   ]
  },
  {
   "cell_type": "code",
   "execution_count": 20,
   "metadata": {},
   "outputs": [],
   "source": [
    "def common(lst1, lst2): \n",
    "    lst3 = [value for value in lst1 if value in lst2] \n",
    "    return lst3 "
   ]
  },
  {
   "cell_type": "markdown",
   "metadata": {},
   "source": [
    "### Задача 9\n",
    "\n"
   ]
  },
  {
   "cell_type": "code",
   "execution_count": 21,
   "metadata": {},
   "outputs": [],
   "source": [
    "def fib(n):\n",
    "    if(n==1):\n",
    "        return 1\n",
    "    elif(n==2):\n",
    "        return 1 \n",
    "    else:\n",
    "        return fib(n-1)+fib(n-2)\n",
    "    "
   ]
  },
  {
   "cell_type": "code",
   "execution_count": 31,
   "metadata": {},
   "outputs": [
    {
     "name": "stdout",
     "output_type": "stream",
     "text": [
      "2 3 bool\n",
      "[[False False False]\n",
      " [False False False]]\n"
     ]
    }
   ],
   "source": [
    "import numpy as np\n",
    "\n",
    "n=input().split()\n",
    "if(n[-1].isdigit()):\n",
    "    shape=tuple(map(int,n))\n",
    "    Z=np.zeros(shape)\n",
    "else:    \n",
    "    shape=tuple(map(int,n[:-1]))\n",
    "    dtype=n[-1]\n",
    "    Z=np.zeros(shape, dtype=dtype)\n",
    "print(Z)    \n",
    "    "
   ]
  },
  {
   "cell_type": "code",
   "execution_count": null,
   "metadata": {},
   "outputs": [],
   "source": [
    "2"
   ]
  },
  {
   "cell_type": "code",
   "execution_count": null,
   "metadata": {},
   "outputs": [],
   "source": []
  }
 ],
 "metadata": {
  "kernelspec": {
   "display_name": "Python 3",
   "language": "python",
   "name": "python3"
  },
  "language_info": {
   "codemirror_mode": {
    "name": "ipython",
    "version": 3
   },
   "file_extension": ".py",
   "mimetype": "text/x-python",
   "name": "python",
   "nbconvert_exporter": "python",
   "pygments_lexer": "ipython3",
   "version": "3.7.3"
  }
 },
 "nbformat": 4,
 "nbformat_minor": 2
}
