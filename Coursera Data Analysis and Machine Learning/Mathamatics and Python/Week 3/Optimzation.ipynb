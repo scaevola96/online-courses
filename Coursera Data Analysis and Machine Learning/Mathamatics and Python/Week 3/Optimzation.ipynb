{
 "cells": [
  {
   "cell_type": "code",
   "execution_count": null,
   "metadata": {},
   "outputs": [],
   "source": [
    "import numpy as np\n",
    "import scipy as sp\n",
    "import matplotlib.pyplot as plt\n",
    "from scipy import optimize\n",
    "from scipy.optimize import minimize, rosen, rosen_der"
   ]
  },
  {
   "cell_type": "code",
   "execution_count": 185,
   "metadata": {},
   "outputs": [],
   "source": [
    "def f(x):\n",
    "    return np.sin(x / 5.0) * np.exp(x / 10.0) + 5 * np.exp(-x / 2.0)\n",
    "def h(x):\n",
    "    return np.array(list(map(int,f(x))))"
   ]
  },
  {
   "cell_type": "code",
   "execution_count": 186,
   "metadata": {},
   "outputs": [],
   "source": [
    "x=np.linspace(0,30)\n",
    "y=f(x)\n",
    "z=h(x)"
   ]
  },
  {
   "cell_type": "code",
   "execution_count": 187,
   "metadata": {},
   "outputs": [
    {
     "data": {
      "image/png": "[encoded data removed]",
      "text/plain": [
       "<Figure size 432x288 with 1 Axes>"
      ]
     },
     "metadata": {
      "needs_background": "light"
     },
     "output_type": "display_data"
    }
   ],
   "source": [
    "plt.plot(x, y, 'g', x, z, 'b')\n",
    "plt.show()"
   ]
  },
  {
   "cell_type": "code",
   "execution_count": 188,
   "metadata": {},
   "outputs": [
    {
     "name": "stdout",
     "output_type": "stream",
     "text": [
      "      fun: 1.7452682903447336\n",
      " hess_inv: array([[5.98752645]])\n",
      "      jac: array([-2.04145908e-06])\n",
      "  message: 'Optimization terminated successfully.'\n",
      "     nfev: 21\n",
      "      nit: 6\n",
      "     njev: 7\n",
      "   status: 0\n",
      "  success: True\n",
      "        x: array([4.13627628])\n",
      "****************************\n",
      "      fun: -11.898894665981313\n",
      " hess_inv: array([[1.67936744]])\n",
      "      jac: array([0.])\n",
      "  message: 'Optimization terminated successfully.'\n",
      "     nfev: 21\n",
      "      nit: 6\n",
      "     njev: 7\n",
      "   status: 0\n",
      "  success: True\n",
      "        x: array([25.88019321])\n",
      "****************************\n",
      "     fun: array([-11.89889467])\n",
      "     jac: array([1.0658141e-06])\n",
      " message: 'Optimization terminated successfully.'\n",
      "    nfev: 98\n",
      "     nit: 5\n",
      " success: True\n",
      "       x: array([25.88019499])\n",
      "****************************\n",
      "      fun: array([-5])\n",
      " hess_inv: array([[1]])\n",
      "      jac: array([0.])\n",
      "  message: 'Optimization terminated successfully.'\n",
      "     nfev: 3\n",
      "      nit: 0\n",
      "     njev: 1\n",
      "   status: 0\n",
      "  success: True\n",
      "        x: array([30.])\n",
      "****************************\n",
      "     fun: -11.0\n",
      " message: 'Optimization terminated successfully.'\n",
      "    nfev: 62\n",
      "     nit: 3\n",
      " success: True\n",
      "       x: array([26.52693082])\n"
     ]
    }
   ],
   "source": [
    "# BFGS algo for f with init 2\n",
    "res1=minimize(f,2,method='BFGS') \n",
    "# BFGS algo for f with init 30\n",
    "res2=minimize(f,30,method='BFGS')\n",
    "# Diff Ev algo for f in range form 1 to 30\n",
    "res3=sp.optimize.differential_evolution(f,[(1,30)])\n",
    "# BFGS algo for f with init 30\n",
    "res4=minimize(h,30,method='BFGS')\n",
    "# Diff Ev algo for h in range form 1 to 30\n",
    "res5=sp.optimize.differential_evolution(h,[(1,30)])\n",
    "print(res1,res2,res3,res4,res5,sep=\"\\n****************************\\n\")"
   ]
  },
  {
   "cell_type": "code",
   "execution_count": null,
   "metadata": {},
   "outputs": [],
   "source": []
  }
 ],
 "metadata": {
  "kernelspec": {
   "display_name": "Python 3",
   "language": "python",
   "name": "python3"
  },
  "language_info": {
   "codemirror_mode": {
    "name": "ipython",
    "version": 3
   },
   "file_extension": ".py",
   "mimetype": "text/x-python",
   "name": "python",
   "nbconvert_exporter": "python",
   "pygments_lexer": "ipython3",
   "version": "3.7.1"
  }
 },
 "nbformat": 4,
 "nbformat_minor": 2
}
