{
 "cells": [
  {
   "cell_type": "markdown",
   "metadata": {},
   "source": [
    "Задача 1"
   ]
  },
  {
   "cell_type": "code",
   "execution_count": null,
   "metadata": {},
   "outputs": [],
   "source": [
    "a=int(input())\n",
    "b=int(input())\n",
    "c=int(input())\n",
    "p=(a+b+c)/2.0\n",
    "s=(p*(p-a)*(p-b)*(p-c))**(0.5)\n",
    "print(s)\n"
   ]
  },
  {
   "cell_type": "markdown",
   "metadata": {},
   "source": [
    "Задача 2"
   ]
  },
  {
   "cell_type": "code",
   "execution_count": null,
   "metadata": {},
   "outputs": [],
   "source": [
    "var=input()\n",
    "if (-15<var<=12)or(14<var<17)or(19<=var):\n",
    "    print(\"True\")\n",
    "else:\n",
    "    print(\"False\")"
   ]
  },
  {
   "cell_type": "markdown",
   "metadata": {},
   "source": [
    "Задача 1.1"
   ]
  },
  {
   "cell_type": "code",
   "execution_count": null,
   "metadata": {},
   "outputs": [],
   "source": [
    "a=int(input())\n",
    "b=int(input())\n",
    "h=int(input())\n",
    "if a<=h<=b:\n",
    "    print(\"Это нормально\")\n",
    "elif h<a:\n",
    "    print(\"Недосып\")\n",
    "else:\n",
    "    print(\"Пересып\")"
   ]
  },
  {
   "cell_type": "markdown",
   "metadata": {},
   "source": [
    "Задача 1.1.1"
   ]
  },
  {
   "cell_type": "code",
   "execution_count": null,
   "metadata": {},
   "outputs": [],
   "source": [
    "year=int(input())\n",
    "if (year%4==0 and year%100!=0)or(year%400==0):\n",
    "    print(\"Високосный\")\n",
    "else:\n",
    "    print(\"Обычный\")\n",
    "    "
   ]
  },
  {
   "cell_type": "markdown",
   "metadata": {},
   "source": [
    "Задача 1.12.1"
   ]
  },
  {
   "cell_type": "code",
   "execution_count": null,
   "metadata": {},
   "outputs": [],
   "source": [
    "a=int(input())\n",
    "b=int(input())\n",
    "c=int(input())\n",
    "p=(a+b+c)/2.0\n",
    "s=(p*(p-a)*(p-b)*(p-c)) ** (0.5)\n",
    "print(s)\n"
   ]
  },
  {
   "cell_type": "markdown",
   "metadata": {},
   "source": [
    "Задача 1.12.2"
   ]
  },
  {
   "cell_type": "code",
   "execution_count": null,
   "metadata": {},
   "outputs": [],
   "source": [
    "var=int(input())\n",
    "if (-15<var<=12)or(14<var<17)or(19<=var):\n",
    "    print(\"True\")\n",
    "else:\n",
    "    print(\"False\")\n",
    "\n"
   ]
  },
  {
   "cell_type": "markdown",
   "metadata": {},
   "source": [
    "Задача 1.12.3"
   ]
  },
  {
   "cell_type": "code",
   "execution_count": null,
   "metadata": {},
   "outputs": [],
   "source": [
    "a=float(input())\n",
    "b=float(input())\n",
    "oper=raw_input()\n",
    "if oper == '+':\n",
    "    print(a+b)\n",
    "elif oper == '-': \n",
    "    print(a-b)\n",
    "elif oper == '*':\n",
    "    print(a*b)\n",
    "elif oper == '/':\n",
    "    if b == 0:\n",
    "        print(\"Деление на 0!\")\n",
    "    else:\n",
    "        print(a/b)\n",
    "elif oper == 'mod':\n",
    "    if b == 0:\n",
    "        print(\"Деление на 0!\")\n",
    "    else:\n",
    "        print(a%b)\n",
    "elif oper == 'div':\n",
    "    if b == 0:\n",
    "        print(\"Деление на 0!\")\n",
    "    else:\n",
    "        print(a//b)\n",
    "                \n",
    "        \n",
    "else:    \n",
    "    print(a**b)\n",
    "   "
   ]
  },
  {
   "cell_type": "markdown",
   "metadata": {},
   "source": [
    "Задача 1.12.4"
   ]
  },
  {
   "cell_type": "code",
   "execution_count": null,
   "metadata": {},
   "outputs": [],
   "source": [
    "\n",
    "shape=input()\n",
    "if shape==\"triangle\":\n",
    "    a=float(input())\n",
    "    b=float(input())\n",
    "    c=float(input())\n",
    "    p= ((a+b+c)/2)\n",
    "    s = (((p*(p-a)*(p-b)*(p-c)))**0.5)\n",
    "    print(s)\n",
    "elif shape==\"rectangle\": \n",
    "    a=float(input())\n",
    "    b=float(input())\n",
    "    print(a*b)\n",
    "elif shape==\"circle\":\n",
    "    r=float(input())\n",
    "    print(3.14*r**2)\n",
    "   \n",
    "    "
   ]
  },
  {
   "cell_type": "markdown",
   "metadata": {},
   "source": [
    "Задача 1.12.5\n"
   ]
  },
  {
   "cell_type": "code",
   "execution_count": null,
   "metadata": {},
   "outputs": [],
   "source": [
    "a=int(input())\n",
    "b=int(input())\n",
    "c=int(input())\n",
    "if a>=b:\n",
    "    max=a\n",
    "    min=b\n",
    "else:\n",
    "    max=b\n",
    "    min=a\n",
    "    \n",
    "if (max<c):\n",
    "        max=c\n",
    "        \n",
    "else:\n",
    "       if(c<min):\n",
    "        min=c\n",
    "        \n",
    "            \n",
    "        \n",
    "print(max)\n",
    "print(min)\n",
    "print(a+b+c-(max+min))\n",
    "\n",
    "    "
   ]
  },
  {
   "cell_type": "markdown",
   "metadata": {},
   "source": [
    "Задача 1.12.6\n",
    "\n",
    "-------------------"
   ]
  },
  {
   "cell_type": "code",
   "execution_count": null,
   "metadata": {},
   "outputs": [],
   "source": [
    "n=input()\n",
    "if len(n)>=2 and n[len(n)-2]=='1':\n",
    "    print(n, 'программистов')\n",
    "else:\n",
    "    if n[len(n)-1]=='1':\n",
    "        print(n, 'программист')\n",
    "    \n",
    "    elif n[len(n)-1]=='2':\n",
    "        print(n, 'программиста')\n",
    "    \n",
    "    elif n[len(n)-1]=='3':\n",
    "        print(n, 'программиста')\n",
    "    \n",
    "    elif n[len(n)-1]=='4':\n",
    "        print(n, 'программиста')\n",
    "    elif n[len(n)-1]=='5':\n",
    "        print(n, 'программистов')\n",
    "    elif n[len(n)-1]=='6':\n",
    "        print(n, 'программистов')\n",
    "    elif n[len(n)-1]=='7':\n",
    "        print(n, 'программистов')\n",
    "    elif n[len(n)-1]=='8':\n",
    "        print(n, 'программистов')\n",
    "    elif n[len(n)-1]=='9':\n",
    "        print(n, 'программистов')\n",
    "    elif n[len(n)-1]=='0':\n",
    "        print(n, 'программистов')\n"
   ]
  },
  {
   "cell_type": "markdown",
   "metadata": {},
   "source": [
    "Задача 1.12.7"
   ]
  },
  {
   "cell_type": "code",
   "execution_count": null,
   "metadata": {},
   "outputs": [],
   "source": [
    "\n",
    "k=input()\n",
    "if (int(k[0])+int(k[1])+int(k[2]))==(int(k[-1])+int(k[-2])+int(k[3])):\n",
    "    print('Cчастливый')\n",
    "else:\n",
    "    print('Обычный')\n"
   ]
  },
  {
   "cell_type": "markdown",
   "metadata": {},
   "source": [
    "Задача 2.1.1"
   ]
  },
  {
   "cell_type": "code",
   "execution_count": 2,
   "metadata": {},
   "outputs": [
    {
     "name": "stdout",
     "output_type": "stream",
     "text": [
      "0\n",
      "0\n"
     ]
    }
   ],
   "source": [
    "k=int(input())\n",
    "s=k\n",
    "while k!=0:\n",
    "    k=int(input())\n",
    "    s+=k\n",
    "print(s)    "
   ]
  },
  {
   "cell_type": "markdown",
   "metadata": {},
   "source": [
    "Задача 2.1.2"
   ]
  },
  {
   "cell_type": "code",
   "execution_count": 18,
   "metadata": {},
   "outputs": [
    {
     "name": "stdout",
     "output_type": "stream",
     "text": [
      "7\n",
      "5\n",
      "35\n"
     ]
    }
   ],
   "source": [
    "a=int(input())\n",
    "b=int(input())\n",
    "k=a*b\n",
    "while a != 0 and b != 0:\n",
    "        if a > b:\n",
    "            a = a % b\n",
    "        else:\n",
    "            b = b % a\n",
    "            \n",
    "print(k//(a + b))"
   ]
  },
  {
   "cell_type": "markdown",
   "metadata": {},
   "source": [
    "Более элегантное решение задачи 2.1.2"
   ]
  },
  {
   "cell_type": "code",
   "execution_count": null,
   "metadata": {},
   "outputs": [],
   "source": [
    "a = int(input())\n",
    "b = int(input())\n",
    "d=a\n",
    "while d%b!=0:\n",
    "    d+=a\n",
    "print(d)\n"
   ]
  },
  {
   "cell_type": "code",
   "execution_count": 4,
   "metadata": {},
   "outputs": [
    {
     "name": "stdout",
     "output_type": "stream",
     "text": [
      "47\n",
      "57\n",
      "69\n",
      "50\n"
     ]
    }
   ],
   "source": [
    "\n",
    "while 1:\n",
    "    a=int(input())\n",
    "    if a==50:\n",
    "        break\n",
    "       \n",
    "\n",
    "\n",
    "\n"
   ]
  },
  {
   "cell_type": "code",
   "execution_count": null,
   "metadata": {},
   "outputs": [],
   "source": []
  }
 ],
 "metadata": {
  "kernelspec": {
   "display_name": "Python 3",
   "language": "python",
   "name": "python3"
  },
  "language_info": {
   "codemirror_mode": {
    "name": "ipython",
    "version": 3
   },
   "file_extension": ".py",
   "mimetype": "text/x-python",
   "name": "python",
   "nbconvert_exporter": "python",
   "pygments_lexer": "ipython3",
   "version": "3.6.8"
  }
 },
 "nbformat": 4,
 "nbformat_minor": 2
}
