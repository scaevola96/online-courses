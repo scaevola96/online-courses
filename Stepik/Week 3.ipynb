{
 "cells": [
  {
   "cell_type": "markdown",
   "metadata": {},
   "source": [
    "Задача 3.1.1"
   ]
  },
  {
   "cell_type": "code",
   "execution_count": null,
   "metadata": {},
   "outputs": [],
   "source": []
  },
  {
   "cell_type": "code",
   "execution_count": null,
   "metadata": {},
   "outputs": [],
   "source": [
    "def f(x):\n",
    "    if x<=-2:\n",
    "        return 1-(x+2)**2\n",
    "    if x>2:\n",
    "        return 1+(x-2)**2\n",
    "    else:\n",
    "        return -x/2"
   ]
  },
  {
   "cell_type": "markdown",
   "metadata": {},
   "source": [
    "Задача 3.1.2\n"
   ]
  },
  {
   "cell_type": "code",
   "execution_count": null,
   "metadata": {},
   "outputs": [],
   "source": [
    "def modify_list(l):\n",
    "     l[:]=[i//2 for i in l if i%2==0]"
   ]
  },
  {
   "cell_type": "markdown",
   "metadata": {},
   "source": [
    "Задача 3.5.1"
   ]
  },
  {
   "cell_type": "code",
   "execution_count": null,
   "metadata": {},
   "outputs": [],
   "source": [
    "import math\n",
    "r=float(input())\n",
    "print(2*math.pi*r)"
   ]
  },
  {
   "cell_type": "markdown",
   "metadata": {},
   "source": [
    "Задача 3.5.2"
   ]
  },
  {
   "cell_type": "code",
   "execution_count": null,
   "metadata": {},
   "outputs": [],
   "source": [
    "import sys\n",
    "print(*sys.argv[1:])"
   ]
  },
  {
   "cell_type": "markdown",
   "metadata": {},
   "source": [
    "Задача 3.2.1"
   ]
  },
  {
   "cell_type": "code",
   "execution_count": null,
   "metadata": {},
   "outputs": [],
   "source": [
    "d={}\n",
    "\n",
    "def update_dictionary(d, key, value):\n",
    "    if key in d:\n",
    "        d[key]+= [value]\n",
    "    else:\n",
    "        if key*2 in d:\n",
    "            d[key*2]+=[value]\n",
    "        else:\n",
    "            d[key*2]=[value]  \n",
    "            \n",
    "print(d)         "
   ]
  },
  {
   "cell_type": "markdown",
   "metadata": {},
   "source": [
    "Задача 3.2.2"
   ]
  },
  {
   "cell_type": "code",
   "execution_count": null,
   "metadata": {},
   "outputs": [],
   "source": [
    "rw=input().lower().split()\n",
    "d={}\n",
    "d={x: rw.count(x) for x in rw }\n",
    "for key in d: print(key,d[key])\n"
   ]
  },
  {
   "cell_type": "code",
   "execution_count": null,
   "metadata": {},
   "outputs": [],
   "source": [
    "print(d)"
   ]
  },
  {
   "cell_type": "markdown",
   "metadata": {},
   "source": [
    "Задача 3.2.3"
   ]
  },
  {
   "cell_type": "code",
   "execution_count": null,
   "metadata": {},
   "outputs": [],
   "source": [
    "\n",
    "n=int(input())\n",
    "ip=[int(input()) for i in range(n)]\n",
    "d={}\n",
    "for i in ip:\n",
    "    if i not in d:\n",
    "        d[i]=f(i)\n",
    "        print(d[i])\n",
    "    else:\n",
    "        print(d[i])\n",
    "\n"
   ]
  },
  {
   "cell_type": "markdown",
   "metadata": {},
   "source": [
    "Задача 3.4.1"
   ]
  },
  {
   "cell_type": "code",
   "execution_count": null,
   "metadata": {},
   "outputs": [],
   "source": [
    "inp=open('input.txt', 'r')\n",
    "str=inp.read().strip()\n",
    "inp.close()\n",
    "newstring=''\n",
    "counter=''\n",
    "char=str[0]\n",
    "\n",
    "for i in range(len(str)):\n",
    "    if str[i].isdigit():\n",
    "        counter+=str[i]\n",
    "    else:\n",
    "          if counter!='':\n",
    "                newstring+=char*(int(counter))\n",
    "                char=str[i]\n",
    "                counter=''\n",
    "\n",
    "                \n",
    "                \n",
    "newstring+=char*(int(counter))\n",
    "print(newstring)\n",
    "out=open('out.txt', 'w')\n",
    "out.write(newstring)\n",
    "out.close()"
   ]
  },
  {
   "cell_type": "markdown",
   "metadata": {},
   "source": [
    "Задача 3.4.2"
   ]
  },
  {
   "cell_type": "code",
   "execution_count": 7,
   "metadata": {},
   "outputs": [
    {
     "name": "stdout",
     "output_type": "stream",
     "text": [
      "t 9\n"
     ]
    }
   ],
   "source": [
    "mass=''\n",
    "with open('dataset_3363_3.txt') as inf:\n",
    "    for line in inf:\n",
    "        line=line.lower().strip()\n",
    "        mass+=line\n",
    "\n",
    "d={}\n",
    "mass.split\n",
    "d={x: mass.split().count(x) for x in mass.split() }\n",
    "g=[k for k,v in list(d.items()) if int(v) == max(d.values())]\n",
    "print(min(g),max(d.values()))"
   ]
  },
  {
   "cell_type": "markdown",
   "metadata": {},
   "source": [
    "Задача 3.4.3"
   ]
  },
  {
   "cell_type": "code",
   "execution_count": null,
   "metadata": {},
   "outputs": [],
   "source": [
    "import codecs\n",
    "import statistics as st\n",
    "with codecs.open('dataset_3363_4.txt',\"r\",'utf_8_sig') as inf:\n",
    "               name=[line.strip().split(';')  for line in inf]\n",
    "          \n",
    "m,p,r=0,0,0\n",
    "for cell in name:\n",
    "        print((int(cell[1])+int(cell[2])+int(cell[3]))/3.0)\n",
    "        m+=int(cell[1])\n",
    "        p+=int(cell[2])\n",
    "        r+=int(cell[3])\n",
    "print(m/len(name),p/len(name),r/len(name))  \n"
   ]
  },
  {
   "cell_type": "markdown",
   "metadata": {},
   "source": [
    "Задача 3.6.1"
   ]
  },
  {
   "cell_type": "code",
   "execution_count": 43,
   "metadata": {},
   "outputs": [
    {
     "name": "stdout",
     "output_type": "stream",
     "text": [
      "293\n"
     ]
    }
   ],
   "source": [
    "import requests\n",
    "inf=open('dataset_3378_2.txt','r') \n",
    "\n",
    "url=inf.read().strip()\n",
    "inf.close()\n",
    "r = requests.get(url)\n",
    "count = 0\n",
    "for line in r.text.splitlines(): count += 1\n",
    "print(count)    "
   ]
  },
  {
   "cell_type": "code",
   "execution_count": 41,
   "metadata": {},
   "outputs": [
    {
     "ename": "NameError",
     "evalue": "name 'dataset_3378_3' is not defined",
     "output_type": "error",
     "traceback": [
      "\u001b[1;31m---------------------------------------------------------------------------\u001b[0m",
      "\u001b[1;31mNameError\u001b[0m                                 Traceback (most recent call last)",
      "\u001b[1;32m<ipython-input-41-3b50f4c18eef>\u001b[0m in \u001b[0;36m<module>\u001b[1;34m\u001b[0m\n\u001b[1;32m----> 1\u001b[1;33m \u001b[0mdataset_3378_3\u001b[0m\u001b[1;33m.\u001b[0m\u001b[0mtxt\u001b[0m\u001b[1;33m\u001b[0m\u001b[1;33m\u001b[0m\u001b[0m\n\u001b[0m",
      "\u001b[1;31mNameError\u001b[0m: name 'dataset_3378_3' is not defined"
     ]
    }
   ],
   "source": [
    "dataset_3378_3.txt"
   ]
  },
  {
   "cell_type": "code",
   "execution_count": 45,
   "metadata": {},
   "outputs": [],
   "source": [
    "inf=open('dataset_3378_3.txt','r') \n",
    "url=inf.read().strip()\n",
    "inf.close()\n",
    "r = requests.get(url)\n",
    "while r.text.strip()[:2]!='We':\n",
    "    url='https://stepic.org/media/attachments/course67/3.6.3/'+r.text\n",
    "    r = requests.get(url)\n",
    "    print(r.text)"
   ]
  },
  {
   "cell_type": "code",
   "execution_count": 61,
   "metadata": {},
   "outputs": [
    {
     "name": "stdout",
     "output_type": "stream",
     "text": [
      "396639.txt\n",
      "835329.txt\n",
      "344063.txt\n",
      "194307.txt\n",
      "195211.txt\n",
      "769171.txt\n",
      "153554.txt\n",
      "680916.txt\n",
      "335636.txt\n",
      "935728.txt\n",
      "081303.txt\n",
      "792633.txt\n",
      "668368.txt\n",
      "647731.txt\n",
      "904392.txt\n",
      "684563.txt\n",
      "997337.txt\n",
      "329467.txt\n",
      "366219.txt\n",
      "730037.txt\n",
      "310230.txt\n",
      "104249.txt\n",
      "382504.txt\n",
      "433681.txt\n",
      "507359.txt\n",
      "293649.txt\n",
      "011641.txt\n",
      "717942.txt\n",
      "258080.txt\n",
      "569395.txt\n",
      "756825.txt\n",
      "921388.txt\n",
      "437007.txt\n",
      "004090.txt\n",
      "362705.txt\n",
      "145282.txt\n",
      "990216.txt\n",
      "645783.txt\n",
      "451262.txt\n",
      "193295.txt\n",
      "777343.txt\n",
      "324603.txt\n",
      "888934.txt\n",
      "138655.txt\n",
      "818396.txt\n",
      "290594.txt\n",
      "478003.txt\n",
      "276687.txt\n",
      "703763.txt\n",
      "712469.txt\n",
      "064418.txt\n",
      "246033.txt\n",
      "356768.txt\n",
      "504290.txt\n",
      "629914.txt\n",
      "062456.txt\n",
      "658472.txt\n",
      "037659.txt\n",
      "351978.txt\n",
      "523822.txt\n",
      "653493.txt\n",
      "859227.txt\n",
      "878358.txt\n",
      "944504.txt\n",
      "457602.txt\n",
      "548571.txt\n",
      "090976.txt\n",
      "965991.txt\n",
      "138128.txt\n",
      "255843.txt\n",
      "797598.txt\n",
      "640003.txt\n",
      "789435.txt\n",
      "181382.txt\n",
      "590526.txt\n",
      "430513.txt\n",
      "182774.txt\n",
      "924794.txt\n",
      "998193.txt\n",
      "770039.txt\n",
      "619504.txt\n",
      "098137.txt\n",
      "874234.txt\n",
      "476929.txt\n",
      "254654.txt\n",
      "972817.txt\n",
      "183249.txt\n",
      "231788.txt\n",
      "238807.txt\n",
      "775176.txt\n",
      "332055.txt\n",
      "971266.txt\n",
      "641342.txt\n",
      "377648.txt\n",
      "665641.txt\n",
      "120842.txt\n",
      "435728.txt\n",
      "860507.txt\n",
      "845049.txt\n",
      "103662.txt\n",
      "989375.txt\n",
      "949525.txt\n",
      "622807.txt\n",
      "441279.txt\n",
      "252484.txt\n",
      "595082.txt\n",
      "942502.txt\n",
      "544418.txt\n",
      "242071.txt\n",
      "696203.txt\n",
      "470997.txt\n",
      "858079.txt\n",
      "299971.txt\n",
      "474312.txt\n",
      "202815.txt\n",
      "192361.txt\n",
      "036087.txt\n",
      "208836.txt\n",
      "057270.txt\n",
      "414940.txt\n",
      "685551.txt\n",
      "877276.txt\n",
      "183839.txt\n",
      "681194.txt\n",
      "268115.txt\n",
      "850395.txt\n",
      "841311.txt\n",
      "318124.txt\n",
      "502298.txt\n",
      "870820.txt\n",
      "886554.txt\n",
      "874723.txt\n",
      "785247.txt\n",
      "743951.txt\n",
      "893121.txt\n",
      "493592.txt\n",
      "043302.txt\n",
      "512901.txt\n",
      "455422.txt\n",
      "405792.txt\n",
      "223561.txt\n",
      "711048.txt\n",
      "986818.txt\n",
      "919305.txt\n",
      "673023.txt\n",
      "195915.txt\n",
      "113918.txt\n",
      "829948.txt\n",
      "407495.txt\n",
      "799448.txt\n",
      "455591.txt\n",
      "046533.txt\n",
      "895838.txt\n",
      "203749.txt\n",
      "897513.txt\n",
      "023903.txt\n",
      "639854.txt\n",
      "767954.txt\n",
      "483260.txt\n",
      "305657.txt\n",
      "113973.txt\n",
      "569665.txt\n",
      "811640.txt\n",
      "627996.txt\n",
      "555691.txt\n",
      "126531.txt\n",
      "434239.txt\n",
      "812997.txt\n",
      "012540.txt\n",
      "457171.txt\n",
      "809767.txt\n",
      "113083.txt\n",
      "168190.txt\n",
      "105218.txt\n",
      "426930.txt\n",
      "839383.txt\n",
      "318610.txt\n",
      "727580.txt\n",
      "966169.txt\n",
      "633699.txt\n",
      "933699.txt\n",
      "254907.txt\n",
      "277257.txt\n",
      "105289.txt\n",
      "618947.txt\n",
      "788422.txt\n",
      "598850.txt\n",
      "218724.txt\n",
      "855788.txt\n",
      "414896.txt\n",
      "086361.txt\n",
      "259720.txt\n",
      "864746.txt\n",
      "213015.txt\n",
      "706951.txt\n",
      "790699.txt\n",
      "556965.txt\n",
      "843911.txt\n",
      "824452.txt\n",
      "558623.txt\n",
      "299517.txt\n",
      "204151.txt\n",
      "864178.txt\n",
      "001410.txt\n",
      "268784.txt\n",
      "413917.txt\n",
      "258819.txt\n",
      "694433.txt\n",
      "376424.txt\n",
      "198564.txt\n",
      "228068.txt\n",
      "417050.txt\n",
      "453058.txt\n",
      "182986.txt\n",
      "237570.txt\n",
      "680981.txt\n",
      "865546.txt\n",
      "367559.txt\n",
      "122687.txt\n",
      "783680.txt\n",
      "626200.txt\n",
      "953943.txt\n",
      "009102.txt\n",
      "882919.txt\n",
      "984198.txt\n",
      "867571.txt\n",
      "889641.txt\n",
      "223919.txt\n",
      "748056.txt\n",
      "577611.txt\n",
      "749540.txt\n",
      "536080.txt\n",
      "351770.txt\n",
      "968708.txt\n",
      "311090.txt\n",
      "239129.txt\n",
      "312237.txt\n",
      "053569.txt\n",
      "678528.txt\n",
      "767429.txt\n",
      "095729.txt\n",
      "452488.txt\n",
      "798915.txt\n",
      "426191.txt\n",
      "067336.txt\n",
      "949017.txt\n",
      "987573.txt\n",
      "843785.txt\n",
      "We are the champions, my friends,\n",
      "And we'll keep on fighting 'til the end.\n",
      "We are the champions.\n",
      "We are the champions.\n",
      "No time for losers\n",
      "'Cause we are the champions of the world.\n"
     ]
    }
   ],
   "source": [
    "while r.text.strip()[:2]!='We':\n",
    "    url='https://stepic.org/media/attachments/course67/3.6.3/'+r.text\n",
    "    r = requests.get(url)\n",
    "    print(r.text)\n",
    "    "
   ]
  },
  {
   "cell_type": "code",
   "execution_count": 47,
   "metadata": {},
   "outputs": [
    {
     "data": {
      "text/plain": [
       "<Response [200]>"
      ]
     },
     "execution_count": 47,
     "metadata": {},
     "output_type": "execute_result"
    }
   ],
   "source": [
    "r"
   ]
  },
  {
   "cell_type": "code",
   "execution_count": 60,
   "metadata": {},
   "outputs": [
    {
     "data": {
      "text/plain": [
       "'213837.txt'"
      ]
     },
     "execution_count": 60,
     "metadata": {},
     "output_type": "execute_result"
    }
   ],
   "source": [
    "r.text"
   ]
  },
  {
   "cell_type": "code",
   "execution_count": 49,
   "metadata": {},
   "outputs": [
    {
     "data": {
      "text/plain": [
       "'https://stepic.org/media/attachments/course67/3.6.3/699991.txt'"
      ]
     },
     "execution_count": 49,
     "metadata": {},
     "output_type": "execute_result"
    }
   ],
   "source": [
    "url"
   ]
  },
  {
   "cell_type": "code",
   "execution_count": 52,
   "metadata": {},
   "outputs": [
    {
     "ename": "TypeError",
     "evalue": "'str' object does not support item assignment",
     "output_type": "error",
     "traceback": [
      "\u001b[1;31m---------------------------------------------------------------------------\u001b[0m",
      "\u001b[1;31mTypeError\u001b[0m                                 Traceback (most recent call last)",
      "\u001b[1;32m<ipython-input-52-e53f01f234ee>\u001b[0m in \u001b[0;36m<module>\u001b[1;34m\u001b[0m\n\u001b[1;32m----> 1\u001b[1;33m \u001b[0murl\u001b[0m\u001b[1;33m[\u001b[0m\u001b[1;33m-\u001b[0m\u001b[1;36m10\u001b[0m\u001b[1;33m:\u001b[0m\u001b[1;33m]\u001b[0m\u001b[1;33m=\u001b[0m\u001b[0mr\u001b[0m\u001b[1;33m.\u001b[0m\u001b[0mtext\u001b[0m\u001b[1;33m\u001b[0m\u001b[1;33m\u001b[0m\u001b[0m\n\u001b[0m",
      "\u001b[1;31mTypeError\u001b[0m: 'str' object does not support item assignment"
     ]
    }
   ],
   "source": [
    "url[-10:]=r.text"
   ]
  },
  {
   "cell_type": "code",
   "execution_count": null,
   "metadata": {},
   "outputs": [],
   "source": []
  }
 ],
 "metadata": {
  "kernelspec": {
   "display_name": "Python 3",
   "language": "python",
   "name": "python3"
  },
  "language_info": {
   "codemirror_mode": {
    "name": "ipython",
    "version": 3
   },
   "file_extension": ".py",
   "mimetype": "text/x-python",
   "name": "python",
   "nbconvert_exporter": "python",
   "pygments_lexer": "ipython3",
   "version": "3.6.8"
  }
 },
 "nbformat": 4,
 "nbformat_minor": 2
}
