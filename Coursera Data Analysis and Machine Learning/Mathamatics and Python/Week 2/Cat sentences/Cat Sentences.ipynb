{
 "cells": [
  {
   "cell_type": "code",
   "execution_count": 205,
   "metadata": {},
   "outputs": [],
   "source": [
    "#Libraries\n",
    "import re\n",
    "import numpy as np\n",
    "from scipy.spatial import distance # for Cosine dist calculation"
   ]
  },
  {
   "cell_type": "code",
   "execution_count": 207,
   "metadata": {},
   "outputs": [],
   "source": [
    "#initialization\n",
    "with open('sentences.txt','r') as sent:\n",
    "    data=sent.readlines()\n",
    "dic={}\n",
    "count=0\n",
    "pat=r'[^a-z]'#Regular expression for cleaning data\n",
    "\n",
    "# Data cleaning\n",
    "data=[re.split(pat,line.strip().lower(),0) for line in data] \n",
    "\n",
    "for line in data:\n",
    "    for char in line:\n",
    "        if char=='':\n",
    "            line.remove(char)\n",
    "        else:\n",
    "            if char not in dic:\n",
    "                dic[char]=count # Dictionary of all unique words with indexes 'word : index'\n",
    "                count+=1\n",
    "                "
   ]
  },
  {
   "cell_type": "code",
   "execution_count": null,
   "metadata": {},
   "outputs": [],
   "source": [
    "# Matrix with number of occurances n  in each of word j in line i:\n",
    "matrix=np.array([[line.count(char) for char in dic] for line in data])\n",
    "#Cosine distance function\n",
    "dist=[sp.spatial.distance.cosine(matrix[0],i) for i in matrix]"
   ]
  },
  {
   "cell_type": "code",
   "execution_count": null,
   "metadata": {},
   "outputs": [],
   "source": [
    "# Two nearest to 1 sentence\n",
    "print(dist.index(sorted(dist)[1]))\n",
    "print(dist.index(sorted(dist)[2]))\n",
    "    "
   ]
  },
  {
   "cell_type": "code",
   "execution_count": null,
   "metadata": {},
   "outputs": [],
   "source": []
  }
 ],
 "metadata": {
  "kernelspec": {
   "display_name": "Python 3",
   "language": "python",
   "name": "python3"
  },
  "language_info": {
   "codemirror_mode": {
    "name": "ipython",
    "version": 3
   },
   "file_extension": ".py",
   "mimetype": "text/x-python",
   "name": "python",
   "nbconvert_exporter": "python",
   "pygments_lexer": "ipython3",
   "version": "3.7.1"
  }
 },
 "nbformat": 4,
 "nbformat_minor": 2
}
