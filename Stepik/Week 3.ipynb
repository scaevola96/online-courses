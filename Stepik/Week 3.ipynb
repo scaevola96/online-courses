{
 "cells": [
  {
   "cell_type": "markdown",
   "metadata": {},
   "source": [
    "Задача 3.1.1"
   ]
  },
  {
   "cell_type": "code",
   "execution_count": null,
   "metadata": {},
   "outputs": [],
   "source": []
  },
  {
   "cell_type": "code",
   "execution_count": null,
   "metadata": {},
   "outputs": [],
   "source": [
    "def f(x):\n",
    "    if x<=-2:\n",
    "        return 1-(x+2)**2\n",
    "    if x>2:\n",
    "        return 1+(x-2)**2\n",
    "    else:\n",
    "        return -x/2"
   ]
  },
  {
   "cell_type": "markdown",
   "metadata": {},
   "source": [
    "Задача 3.1.2\n"
   ]
  },
  {
   "cell_type": "code",
   "execution_count": null,
   "metadata": {},
   "outputs": [],
   "source": [
    "def modify_list(l):\n",
    "     l[:]=[i//2 for i in l if i%2==0]"
   ]
  },
  {
   "cell_type": "markdown",
   "metadata": {},
   "source": [
    "Задача 3.5.1"
   ]
  },
  {
   "cell_type": "code",
   "execution_count": null,
   "metadata": {},
   "outputs": [],
   "source": [
    "import math\n",
    "r=float(input())\n",
    "print(2*math.pi*r)"
   ]
  },
  {
   "cell_type": "markdown",
   "metadata": {},
   "source": [
    "Задача 3.5.2"
   ]
  },
  {
   "cell_type": "code",
   "execution_count": null,
   "metadata": {},
   "outputs": [],
   "source": [
    "import sys\n",
    "print(*sys.argv[1:])"
   ]
  },
  {
   "cell_type": "markdown",
   "metadata": {},
   "source": [
    "Задача 3.2.1"
   ]
  },
  {
   "cell_type": "code",
   "execution_count": null,
   "metadata": {},
   "outputs": [],
   "source": [
    "d={}\n",
    "\n",
    "def update_dictionary(d, key, value):\n",
    "    if key in d:\n",
    "        d[key]+= [value]\n",
    "    else:\n",
    "        if key*2 in d:\n",
    "            d[key*2]+=[value]\n",
    "        else:\n",
    "            d[key*2]=[value]  \n",
    "            \n",
    "print(d)         "
   ]
  },
  {
   "cell_type": "markdown",
   "metadata": {},
   "source": [
    "Задача 3.2.2"
   ]
  },
  {
   "cell_type": "code",
   "execution_count": null,
   "metadata": {},
   "outputs": [],
   "source": [
    "rw=input().lower().split()\n",
    "d={}\n",
    "d={x: rw.count(x) for x in rw }\n",
    "for key in d: print(key,d[key])\n"
   ]
  },
  {
   "cell_type": "code",
   "execution_count": null,
   "metadata": {},
   "outputs": [],
   "source": [
    "print(d)"
   ]
  },
  {
   "cell_type": "markdown",
   "metadata": {},
   "source": [
    "Задача 3.2.3"
   ]
  },
  {
   "cell_type": "code",
   "execution_count": null,
   "metadata": {},
   "outputs": [],
   "source": [
    "\n",
    "n=int(input())\n",
    "ip=[int(input()) for i in range(n)]\n",
    "d={}\n",
    "for i in ip:\n",
    "    if i not in d:\n",
    "        d[i]=f(i)\n",
    "        print(d[i])\n",
    "    else:\n",
    "        print(d[i])\n",
    "\n"
   ]
  },
  {
   "cell_type": "markdown",
   "metadata": {},
   "source": [
    "Задача 3.4.1"
   ]
  },
  {
   "cell_type": "code",
   "execution_count": null,
   "metadata": {},
   "outputs": [],
   "source": [
    "inp=open('input.txt', 'r')\n",
    "str=inp.read().strip()\n",
    "inp.close()\n",
    "newstring=''\n",
    "counter=''\n",
    "char=str[0]\n",
    "\n",
    "for i in range(len(str)):\n",
    "    if str[i].isdigit():\n",
    "        counter+=str[i]\n",
    "    else:\n",
    "          if counter!='':\n",
    "                newstring+=char*(int(counter))\n",
    "                char=str[i]\n",
    "                counter=''\n",
    "\n",
    "                \n",
    "                \n",
    "newstring+=char*(int(counter))\n",
    "print(newstring)\n",
    "out=open('out.txt', 'w')\n",
    "out.write(newstring)\n",
    "out.close()"
   ]
  },
  {
   "cell_type": "markdown",
   "metadata": {},
   "source": [
    "Задача 3.4.2"
   ]
  },
  {
   "cell_type": "code",
   "execution_count": 145,
   "metadata": {},
   "outputs": [
    {
     "name": "stdout",
     "output_type": "stream",
     "text": [
      "t 9\n"
     ]
    }
   ],
   "source": [
    "mass=''\n",
    "with open('dataset_3363_3.txt') as inf:\n",
    "    for line in inf:\n",
    "        line=line.lower().strip()\n",
    "        mass+=line\n",
    "\n",
    "d={}\n",
    "mass.split\n",
    "d={x: mass.split().count(x) for x in mass.split() }\n",
    "g=[k for k,v in list(d.items()) if int(v) == max(d.values())]\n",
    "print(min(g),max(d.values()))"
   ]
  }
 ],
 "metadata": {
  "kernelspec": {
   "display_name": "Python 3",
   "language": "python",
   "name": "python3"
  },
  "language_info": {
   "codemirror_mode": {
    "name": "ipython",
    "version": 3
   },
   "file_extension": ".py",
   "mimetype": "text/x-python",
   "name": "python",
   "nbconvert_exporter": "python",
   "pygments_lexer": "ipython3",
   "version": "3.6.8"
  }
 },
 "nbformat": 4,
 "nbformat_minor": 2
}
