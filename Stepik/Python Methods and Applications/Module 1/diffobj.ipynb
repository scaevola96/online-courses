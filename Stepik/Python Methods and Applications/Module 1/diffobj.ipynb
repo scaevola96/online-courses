{
 "cells": [
  {
   "cell_type": "code",
   "execution_count": null,
   "metadata": {},
   "outputs": [],
   "source": [
    "n = len(objects)\n",
    "ans = n\n",
    "for i in range(n):\n",
    "    for j in range(i):\n",
    "        if id(objects[i]) == id(objects[j]):\n",
    "            ans -= 1\n",
    "            break\n",
    "\n",
    "print(ans)"
   ]
  },
  {
   "cell_type": "code",
   "execution_count": null,
   "metadata": {},
   "outputs": [],
   "source": [
    "objects = objects if 'objects' in locals() else [1, 2, 1, 2, 3]\n",
    "num = 0\n",
    "sortedObjects = sorted(objects, key=id)\n",
    "for key, obj in enumerate(sortedObjects):\n",
    "    if key == 0 or not obj is sortedObjects[key - 1]:\n",
    "        num += 1\n",
    "print(num)\n"
   ]
  },
  {
   "cell_type": "code",
   "execution_count": null,
   "metadata": {},
   "outputs": [],
   "source": [
    "print(len(set(map(id, objects))))\n"
   ]
  }
 ],
 "metadata": {
  "kernelspec": {
   "display_name": "Python 3",
   "language": "python",
   "name": "python3"
  },
  "language_info": {
   "codemirror_mode": {
    "name": "ipython",
    "version": 3
   },
   "file_extension": ".py",
   "mimetype": "text/x-python",
   "name": "python",
   "nbconvert_exporter": "python",
   "pygments_lexer": "ipython3",
   "version": "3.7.1"
  }
 },
 "nbformat": 4,
 "nbformat_minor": 2
}
